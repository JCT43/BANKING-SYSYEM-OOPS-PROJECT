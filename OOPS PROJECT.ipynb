{
 "cells": [
  {
   "cell_type": "code",
   "execution_count": 62,
   "id": "0371e298-d9bd-46fc-838f-3db3946c4370",
   "metadata": {},
   "outputs": [
    {
     "name": "stdin",
     "output_type": "stream",
     "text": [
      "Enter your account number:  101\n"
     ]
    },
    {
     "name": "stdout",
     "output_type": "stream",
     "text": [
      "\n",
      "Hai Alice!\n",
      "\n",
      "Welcome to J Bank.\n",
      "Your trusted banking partner\n",
      "\n",
      "How can we help you:\n",
      "1. Deposit\n",
      "2. Withdraw\n",
      "3. Show Balance\n",
      "4. Exit\n"
     ]
    },
    {
     "name": "stdin",
     "output_type": "stream",
     "text": [
      "Enter your choice:  1\n",
      "Enter amount to deposit:  200\n"
     ]
    },
    {
     "name": "stdout",
     "output_type": "stream",
     "text": [
      "200.0 deposited. \n",
      "New balance: 1200.0\n",
      "\n",
      "Do you want to:\n",
      "1. Continue\n",
      "2. Exit\n"
     ]
    },
    {
     "name": "stdin",
     "output_type": "stream",
     "text": [
      "Enter your choice:  44\n"
     ]
    },
    {
     "name": "stdout",
     "output_type": "stream",
     "text": [
      "Invalid choice! Please enter 1 or 2.\n",
      "\n",
      "Do you want to:\n",
      "1. Continue\n",
      "2. Exit\n"
     ]
    },
    {
     "name": "stdin",
     "output_type": "stream",
     "text": [
      "Enter your choice:  2\n"
     ]
    },
    {
     "name": "stdout",
     "output_type": "stream",
     "text": [
      "Thank you for banking with us!\n"
     ]
    }
   ],
   "source": [
    "# Define a custom exception for insufficient balance\n",
    "class InsufficientBalanceError(Exception):\n",
    "    pass\n",
    "\n",
    "# Define a custom exception for invalid account number\n",
    "class InvalidAccountError(Exception):\n",
    "    pass\n",
    "\n",
    "# BankAccount class\n",
    "class BankAccount:\n",
    "    def __init__(self, account_number, owner, balance=0):\n",
    "        self.account_number = account_number\n",
    "        self.owner = owner\n",
    "        self.balance = balance\n",
    "\n",
    "    def deposit(self, amount):\n",
    "        self.balance += amount\n",
    "        print(f\"{amount} deposited. \\nNew balance: {self.balance}\")\n",
    "\n",
    "    def withdraw(self, amount):\n",
    "        if amount > self.balance:\n",
    "            raise InsufficientBalanceError(\"Insufficient balance for this transaction.\")\n",
    "        self.balance -= amount\n",
    "        print(f\"{amount} withdrawn. New balance: {self.balance}\")\n",
    "\n",
    "    def show_balance(self):\n",
    "        print(f\"Current balance: {self.balance}\")\n",
    "\n",
    "    def show_greeting(self):\n",
    "        print(f\"\\nHai {self.owner}!\")  # Shows \"Hai\" and the account holder's name\n",
    "\n",
    "# Bank class to handle multiple accounts\n",
    "class Bank:\n",
    "    def __init__(self):\n",
    "        self.accounts = {}\n",
    "\n",
    "    def add_account(self, account_number, owner, initial_balance=0):\n",
    "        if account_number in self.accounts:\n",
    "            raise ValueError(\"Account number already exists.\")\n",
    "        self.accounts[account_number] = BankAccount(account_number, owner, initial_balance)\n",
    "\n",
    "    def get_account(self, account_number):\n",
    "        if account_number not in self.accounts:\n",
    "            raise InvalidAccountError(\"Account number not found.\")\n",
    "        return self.accounts[account_number]\n",
    "\n",
    "# Main function for user interaction\n",
    "def main():\n",
    "    bank = Bank()\n",
    "\n",
    "    # Adding some sample accounts\n",
    "    bank.add_account(101, \"James\", 1000)\n",
    "    bank.add_account(102, \"Rahul\", 500)\n",
    "    bank.add_account(103, \"Vishnu\", 2000)\n",
    "    bank.add_account(104, \"Geethu\", 1800)\n",
    "\n",
    "    try:\n",
    "        # Enter account number\n",
    "        account_number = int(input(\"Enter your account number: \"))\n",
    "        account = bank.get_account(account_number)\n",
    "\n",
    "        # Display greeting with the account holder's name\n",
    "        account.show_greeting()\n",
    "        \n",
    "        print(\"\\nWelcome to J Bank.\\nYour trusted banking partner\")\n",
    "        \n",
    "        \n",
    "         # Options for transaction\n",
    "        while True:\n",
    "            # Loop for transaction options\n",
    "            while True:\n",
    "              print(\"\\nHow can we help you:\")\n",
    "              print(\"1. Deposit\")\n",
    "              print(\"2. Withdraw\")\n",
    "              print(\"3. Show Balance\")\n",
    "              print(\"4. Exit\")\n",
    "              choice = input(\"Enter your choice: \")\n",
    "\n",
    "              if choice == '1':\n",
    "                  amount = float(input(\"Enter amount to deposit: \"))\n",
    "                  account.deposit(amount)\n",
    "                  break #Exit the transaction options loop after a valid choice\n",
    "              elif choice == '2':\n",
    "                  amount = float(input(\"Enter amount to withdraw: \"))\n",
    "                  account.withdraw(amount)\n",
    "                  break\n",
    "              elif choice == '3':\n",
    "                  account.show_balance()\n",
    "                  break\n",
    "              elif choice == '4':\n",
    "                  print(\"Thank you for banking with J Bank!\")\n",
    "                  return  # Exit the main function\n",
    "              else:\n",
    "                  print(\"Invalid choice! Please try again.\")\n",
    "            # Ask if user wants to continue or exit\n",
    "            while True:  # Loop for continue or exit options\n",
    "              print(\"\\nDo you want to:\")\n",
    "              print(\"1. Continue\")\n",
    "              print(\"2. Exit\")\n",
    "              continue_choice = input(\"Enter your choice: \")\n",
    "\n",
    "              if continue_choice == '1':\n",
    "                  break  # Exit the continue options loop to show the transaction options again\n",
    "              elif continue_choice == '2':\n",
    "                  print(\"Thank you for banking with J Bank!\")\n",
    "                  return  # Exit the main function\n",
    "              else:\n",
    "                  print(\"Invalid choice! Please enter 1 or 2.\")  # Prompt for a valid option\n",
    "                  \n",
    "    except InvalidAccountError as e:\n",
    "        print(f\"Error: {e}\")\n",
    "    except InsufficientBalanceError as e:\n",
    "        print(f\"Error: {e}\")\n",
    "    except ValueError as e:\n",
    "        print(f\"Error: {e}\")\n",
    "    except Exception as e:\n",
    "        print(f\"An unexpected error occurred: {e}\")\n",
    "\n",
    "# Run the main functionmain()\n",
    "main()\n"
   ]
  },
  {
   "cell_type": "code",
   "execution_count": null,
   "id": "ebb6747b-aaff-4b18-8b6f-5f87735d5928",
   "metadata": {},
   "outputs": [],
   "source": []
  },
  {
   "cell_type": "code",
   "execution_count": null,
   "id": "601f484a-c763-4a2e-992e-3e41b68690c3",
   "metadata": {},
   "outputs": [],
   "source": []
  }
 ],
 "metadata": {
  "kernelspec": {
   "display_name": "Python 3 (ipykernel)",
   "language": "python",
   "name": "python3"
  },
  "language_info": {
   "codemirror_mode": {
    "name": "ipython",
    "version": 3
   },
   "file_extension": ".py",
   "mimetype": "text/x-python",
   "name": "python",
   "nbconvert_exporter": "python",
   "pygments_lexer": "ipython3",
   "version": "3.12.4"
  }
 },
 "nbformat": 4,
 "nbformat_minor": 5
}
